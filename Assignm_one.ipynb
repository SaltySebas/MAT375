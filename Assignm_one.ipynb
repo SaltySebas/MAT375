{
 "cells": [
  {
   "cell_type": "markdown",
   "metadata": {},
   "source": [
    "Task A\n",
    "Keeping all assumptions from the model in Part 1, answer the question “In which generation does the rabbit population reach a level of 100,000\n",
    "pairs of rabbits?” Be sure to build the model into a spreadsheet (as we did in Part 1)"
   ]
  },
  {
   "cell_type": "code",
   "execution_count": 5,
   "metadata": {},
   "outputs": [
    {
     "name": "stdout",
     "output_type": "stream",
     "text": [
      "In generation 2 the number of rabit pairs was 1\n",
      "In generation 3 the number of rabit pairs was 2\n",
      "In generation 4 the number of rabit pairs was 3\n",
      "In generation 5 the number of rabit pairs was 5\n",
      "In generation 6 the number of rabit pairs was 8\n",
      "In generation 7 the number of rabit pairs was 13\n",
      "In generation 8 the number of rabit pairs was 21\n",
      "In generation 9 the number of rabit pairs was 34\n",
      "In generation 10 the number of rabit pairs was 55\n",
      "In generation 11 the number of rabit pairs was 89\n",
      "In generation 12 the number of rabit pairs was 144\n",
      "In generation 13 the number of rabit pairs was 233\n",
      "In generation 14 the number of rabit pairs was 377\n",
      "In generation 15 the number of rabit pairs was 610\n",
      "In generation 16 the number of rabit pairs was 987\n",
      "In generation 17 the number of rabit pairs was 1597\n",
      "In generation 18 the number of rabit pairs was 2584\n",
      "In generation 19 the number of rabit pairs was 4181\n",
      "In generation 20 the number of rabit pairs was 6765\n",
      "In generation 21 the number of rabit pairs was 10946\n"
     ]
    }
   ],
   "source": [
    "import numpy as np\n",
    "import pandas as pd\n",
    "import matplotlib as mp\n",
    "\n",
    "generation = 1\n",
    "number_of_pairs = 1\n",
    "young_rab = 1\n",
    "old_rab = 0\n",
    "total = []\n",
    "\n",
    "while number_of_pairs <= 10000:\n",
    "    new_rabs = old_rab * 1\n",
    "    number_of_pairs = new_rabs + old_rab + young_rab\n",
    "    old_rab = old_rab + young_rab\n",
    "    young_rab = new_rabs\n",
    "    generation += 1\n",
    "    print (\"In generation {} the number of rabit pairs was {}\".format(generation,number_of_pairs))"
   ]
  },
  {
   "cell_type": "markdown",
   "metadata": {},
   "source": [
    "Now let us change assumption 2 and instead assume that rabbits do not have offspring until the 4th generation (instead of the 2nd). Create\n",
    "another rabbit model to answer the question “In which generation does the rabbit population reach a level of 100,000 pairs of rabbits?” under\n",
    "this modified assumption. Be sure to give an algorithmic description of this model in terms of a recurrence relation and also build your model\n",
    "into a spreadsheet."
   ]
  },
  {
   "cell_type": "code",
   "execution_count": 6,
   "metadata": {},
   "outputs": [
    {
     "name": "stdout",
     "output_type": "stream",
     "text": [
      "In generation 2 the number of rabit pairs was 1\n",
      "In generation 3 the number of rabit pairs was 1\n",
      "In generation 4 the number of rabit pairs was 1\n",
      "In generation 5 the number of rabit pairs was 2\n",
      "In generation 6 the number of rabit pairs was 3\n",
      "In generation 7 the number of rabit pairs was 4\n",
      "In generation 8 the number of rabit pairs was 5\n",
      "In generation 9 the number of rabit pairs was 7\n",
      "In generation 10 the number of rabit pairs was 10\n",
      "In generation 11 the number of rabit pairs was 14\n",
      "In generation 12 the number of rabit pairs was 19\n",
      "In generation 13 the number of rabit pairs was 26\n",
      "In generation 14 the number of rabit pairs was 36\n",
      "In generation 15 the number of rabit pairs was 50\n",
      "In generation 16 the number of rabit pairs was 69\n",
      "In generation 17 the number of rabit pairs was 95\n",
      "In generation 18 the number of rabit pairs was 131\n",
      "In generation 19 the number of rabit pairs was 181\n",
      "In generation 20 the number of rabit pairs was 250\n",
      "In generation 21 the number of rabit pairs was 345\n",
      "In generation 22 the number of rabit pairs was 476\n",
      "In generation 23 the number of rabit pairs was 657\n",
      "In generation 24 the number of rabit pairs was 907\n",
      "In generation 25 the number of rabit pairs was 1252\n",
      "In generation 26 the number of rabit pairs was 1728\n",
      "In generation 27 the number of rabit pairs was 2385\n",
      "In generation 28 the number of rabit pairs was 3292\n",
      "In generation 29 the number of rabit pairs was 4544\n",
      "In generation 30 the number of rabit pairs was 6272\n",
      "In generation 31 the number of rabit pairs was 8657\n",
      "In generation 32 the number of rabit pairs was 11949\n",
      "In generation 33 the number of rabit pairs was 16493\n",
      "In generation 34 the number of rabit pairs was 22765\n",
      "In generation 35 the number of rabit pairs was 31422\n",
      "In generation 36 the number of rabit pairs was 43371\n",
      "In generation 37 the number of rabit pairs was 59864\n",
      "In generation 38 the number of rabit pairs was 82629\n",
      "In generation 39 the number of rabit pairs was 114051\n"
     ]
    }
   ],
   "source": [
    "import numpy as np\n",
    "import pandas as pd\n",
    "import matplotlib as mp\n",
    "\n",
    "generation = 1\n",
    "number_of_pairs = 1\n",
    "young_rab1 = 1\n",
    "young_rab2 = 0\n",
    "young_rab3 = 0\n",
    "old_rab = 0\n",
    "total = []\n",
    "\n",
    "while number_of_pairs <= 100000:\n",
    "    new_rabs = old_rab * 1\n",
    "    number_of_pairs = new_rabs + old_rab + young_rab1 + young_rab2 + young_rab3\n",
    "    old_rab = old_rab + young_rab3\n",
    "    young_rab3 = young_rab2\n",
    "    young_rab2 = young_rab1\n",
    "    young_rab1 = new_rabs\n",
    "    generation += 1\n",
    "    print (\"In generation {} the number of rabit pairs was {}\".format(generation,number_of_pairs))"
   ]
  },
  {
   "cell_type": "markdown",
   "metadata": {},
   "source": [
    "Now go back to the original model from Part 1 and change assumption 3. Let’s assume that rabbits have 2 pairs of offspring each time instead of\n",
    "one pair. Create another rabbit model to answer the question “In which generation does the rabbit population reach a level of 100,000 pairs of\n",
    "rabbits?” under this modified assumption. Be sure to give an algorithmic description of this model in terms of a recurrence relation and also\n",
    "build your model into a spreadsheet."
   ]
  },
  {
   "cell_type": "code",
   "execution_count": 7,
   "metadata": {},
   "outputs": [
    {
     "name": "stdout",
     "output_type": "stream",
     "text": [
      "In generation 2 the number of rabit pairs was 1\n",
      "In generation 3 the number of rabit pairs was 3\n",
      "In generation 4 the number of rabit pairs was 5\n",
      "In generation 5 the number of rabit pairs was 11\n",
      "In generation 6 the number of rabit pairs was 21\n",
      "In generation 7 the number of rabit pairs was 43\n",
      "In generation 8 the number of rabit pairs was 85\n",
      "In generation 9 the number of rabit pairs was 171\n",
      "In generation 10 the number of rabit pairs was 341\n",
      "In generation 11 the number of rabit pairs was 683\n",
      "In generation 12 the number of rabit pairs was 1365\n",
      "In generation 13 the number of rabit pairs was 2731\n",
      "In generation 14 the number of rabit pairs was 5461\n",
      "In generation 15 the number of rabit pairs was 10923\n",
      "In generation 16 the number of rabit pairs was 21845\n",
      "In generation 17 the number of rabit pairs was 43691\n",
      "In generation 18 the number of rabit pairs was 87381\n",
      "In generation 19 the number of rabit pairs was 174763\n"
     ]
    }
   ],
   "source": [
    "import numpy as np\n",
    "import pandas as pd\n",
    "import matplotlib as mp\n",
    "\n",
    "generation = 1\n",
    "number_of_pairs = 1\n",
    "young_rab = 1\n",
    "old_rab = 0\n",
    "total = []\n",
    "\n",
    "while number_of_pairs <= 100000:\n",
    "    new_rabs = old_rab * 2\n",
    "    number_of_pairs = new_rabs + old_rab + young_rab\n",
    "    old_rab = old_rab + young_rab\n",
    "    young_rab = new_rabs\n",
    "    generation += 1\n",
    "    print (\"In generation {} the number of rabit pairs was {}\".format(generation,number_of_pairs))"
   ]
  },
  {
   "cell_type": "markdown",
   "metadata": {},
   "source": [
    "Now go back to the original model from Part 1 and change assumption 4. Let’s assume that rabbits die after 5 generations instead of living\n",
    "forever. Create another rabbit model to answer the question “In which generation does the rabbit population reach a level of 100,000 pairs of\n",
    "rabbits?” under this modified assumption. Be sure to give an algorithmic description of this model in terms of a recurrence relation and also\n",
    "build your model into a spreadsheet."
   ]
  },
  {
   "cell_type": "code",
   "execution_count": null,
   "metadata": {},
   "outputs": [],
   "source": []
  }
 ],
 "metadata": {
  "kernelspec": {
   "display_name": "Python 3",
   "language": "python",
   "name": "python3"
  },
  "language_info": {
   "codemirror_mode": {
    "name": "ipython",
    "version": 3
   },
   "file_extension": ".py",
   "mimetype": "text/x-python",
   "name": "python",
   "nbconvert_exporter": "python",
   "pygments_lexer": "ipython3",
   "version": "3.10.8"
  },
  "orig_nbformat": 4
 },
 "nbformat": 4,
 "nbformat_minor": 2
}
